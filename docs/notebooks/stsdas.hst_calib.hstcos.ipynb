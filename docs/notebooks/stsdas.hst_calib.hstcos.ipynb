{
 "cells": [
  {
   "cell_type": "markdown",
   "metadata": {},
   "source": [
    "# stsdas.hst_calib.hstcos"
   ]
  },
  {
   "cell_type": "markdown",
   "metadata": {},
   "source": [
    "## Notes\n",
    "\n",
    "The source code for tasks in the `hstcos` package is written in python and already available in the [CalCOS](https://github.com/spacetelescope/calcos) and [COSTools](https://github.com/spacetelescope/costools) repositories.  \n",
    "\n",
    "The full documentation for these packages can be found below:\n",
    "* [CalCOS Docs](http://ssb.stsci.edu/doc/stsci_python_dev/calcos.doc/html/index.html)\n",
    "* [CalCOS Docs](http://ssb.stsci.edu/doc/stsci_python_dev/costools.doc/html/index.html)\n",
    "\n",
    "<br>"
   ]
  },
  {
   "cell_type": "markdown",
   "metadata": {},
   "source": [
    "Contents:\n",
    "* [calcos](#calcos)\n",
    "* [splittag](#splittag)\n",
    "* [x1dcorr](#x1dcorr)\n"
   ]
  },
  {
   "cell_type": "markdown",
   "metadata": {},
   "source": [
    "<br>\n",
    "\n",
    "# calcos\n",
    "\n",
    "** Please review the [Notes](#notes) section above before running any examples in this notebook **\n",
    "\n",
    "Run the CalCOS pipeline to calibrate datasets from the COS instrument on-board HST.\n",
    "\n",
    "The instructions below list how to run calcos from a python session.  However, it can also be run from the command-line.\n",
    "\n",
    "```bash\n",
    "$ calcos rootname_asn.fits\n",
    "$ calcos rootname_rawtag_a.fits\n",
    "```"
   ]
  },
  {
   "cell_type": "code",
   "execution_count": null,
   "metadata": {
    "collapsed": true
   },
   "outputs": [],
   "source": [
    "import calcos"
   ]
  },
  {
   "cell_type": "code",
   "execution_count": null,
   "metadata": {
    "collapsed": true
   },
   "outputs": [],
   "source": [
    "calcos.calcos(\"rootname_asn.fits\")\n",
    "calcos.calcos(\"rootname_rawtag_a.fits\")"
   ]
  },
  {
   "cell_type": "markdown",
   "metadata": {},
   "source": [
    "<br>\n",
    "\n",
    "# splittag\n",
    "\n",
    "** Please review the [Notes](#notes) section above before running any examples in this notebook **"
   ]
  },
  {
   "cell_type": "code",
   "execution_count": null,
   "metadata": {
    "collapsed": false
   },
   "outputs": [],
   "source": [
    "from costools.splittag import splittag"
   ]
  },
  {
   "cell_type": "code",
   "execution_count": null,
   "metadata": {
    "collapsed": true
   },
   "outputs": [],
   "source": [
    "#-- Split the single dataset apart into three with the time intervals:\n",
    "#-- 0 to 400, 400 to 900, and 900 - 1300 seconds.\n",
    "splittag.splittag(infiles='data/lc1va0zgq_corrtag_a.fits', \n",
    "                  outroot='data/lc1va0zgq',\n",
    "                  time_list=\"0,400,900,1300\")"
   ]
  },
  {
   "cell_type": "markdown",
   "metadata": {},
   "source": [
    "<br>\n",
    "\n",
    "# x1dcorr\n",
    "\n",
    "** Please review the [Notes](#notes) section above before running any examples in this notebook **"
   ]
  },
  {
   "cell_type": "code",
   "execution_count": null,
   "metadata": {
    "collapsed": true
   },
   "outputs": [],
   "source": [
    "from costools import x1dcorr"
   ]
  },
  {
   "cell_type": "code",
   "execution_count": null,
   "metadata": {
    "collapsed": false,
    "scrolled": true
   },
   "outputs": [],
   "source": [
    "x1d.main()"
   ]
  }
 ],
 "metadata": {
  "kernelspec": {
   "display_name": "Python 3",
   "language": "python",
   "name": "python3"
  },
  "language_info": {
   "codemirror_mode": {
    "name": "ipython",
    "version": 3
   },
   "file_extension": ".py",
   "mimetype": "text/x-python",
   "name": "python",
   "nbconvert_exporter": "python",
   "pygments_lexer": "ipython3",
   "version": "3.5.2"
  }
 },
 "nbformat": 4,
 "nbformat_minor": 1
}
