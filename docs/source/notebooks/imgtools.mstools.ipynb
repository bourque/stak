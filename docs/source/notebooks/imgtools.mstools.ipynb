{
 "cells": [
  {
   "cell_type": "markdown",
   "metadata": {},
   "source": [
    "# imgtools.mstools"
   ]
  },
  {
   "cell_type": "markdown",
   "metadata": {},
   "source": [
    "<a id='notes'></a>\n",
    "\n",
    "## Notes"
   ]
  },
  {
   "cell_type": "markdown",
   "metadata": {},
   "source": [
    "The imgtools.mstools package contains tasks for working with STIS, NICMOS, ACS, and WFC3 data. Some tasks are 'extensions\" of existing tasks in the STSDAS system, and support other instruments/file formats as well.\n",
    "\n",
    "\n",
    "Contents:\n",
    "\n",
    "* [mscombine](#mscombine)"
   ]
  },
  {
   "cell_type": "markdown",
   "metadata": {},
   "source": [
    "<a id='mscombine'></a>\n",
    "\n",
    "## mscombine"
   ]
  },
  {
   "cell_type": "markdown",
   "metadata": {},
   "source": [
    "The original `mscombine` IRAF task performed image combination of several `SCI` exetensions of HST data while allowing the user to reject specified `DQ` bits. Additionally, the user could choose to combine the stack using the average or the median.  \n",
    "\n",
    "This `mscombine` alternative uses `numpy` masked arrays to avoid using flagged pixels in the `DQ` array.  In this simple example, we average-combine several full-frame WFC3/UVIS images."
   ]
  },
  {
   "cell_type": "code",
   "execution_count": 1,
   "metadata": {
    "collapsed": true
   },
   "outputs": [],
   "source": [
    "# Standard Imports\n",
    "import glob\n",
    "import numpy as np\n",
    "\n",
    "# Astronomy Specific Imports\n",
    "from astropy.io import fits"
   ]
  },
  {
   "cell_type": "code",
   "execution_count": 2,
   "metadata": {
    "collapsed": false
   },
   "outputs": [],
   "source": [
    "# Get the data\n",
    "test_data = glob.glob('/eng/ssb/iraf_transition/test_data/mscombine/*_blv_tmp.fits')"
   ]
  },
  {
   "cell_type": "code",
   "execution_count": 3,
   "metadata": {
    "collapsed": true
   },
   "outputs": [],
   "source": [
    "# Create masked arrays\n",
    "masked_arrays_ext1, masked_arrays_ext2, masked_arrays_ext4, masked_arrays_ext5 = [], [], [], []\n",
    "for filename in test_data:\n",
    "    with fits.open(filename) as hdulist:\n",
    "        \n",
    "            # For UVIS chip 2\n",
    "            mask_ext3 = np.zeros(hdulist[3].data.shape)\n",
    "            mask_ext3[np.where(hdulist[3].data != 0)] = 1\n",
    "            masked_arrays_ext1.append(np.ma.masked_array(hdulist[1].data, mask=mask_ext3))\n",
    "            masked_arrays_ext2.append(np.ma.masked_array(hdulist[2].data, mask=mask_ext3))\n",
    "\n",
    "            # For UVIS chip 1\n",
    "            mask_ext6 = np.zeros(hdulist[6].data.shape)\n",
    "            mask_ext6[np.where(hdulist[6].data != 0)] = 1\n",
    "            masked_arrays_ext4.append(np.ma.masked_array(hdulist[4].data, mask=mask_ext6))\n",
    "            masked_arrays_ext5.append(np.ma.masked_array(hdulist[5].data, mask=mask_ext6))"
   ]
  },
  {
   "cell_type": "code",
   "execution_count": 4,
   "metadata": {
    "collapsed": true
   },
   "outputs": [],
   "source": [
    "# Average-combine SCI arrays\n",
    "comb_ext1 = np.ma.mean(masked_arrays_ext1, axis=0).data\n",
    "comb_ext4 = np.ma.mean(masked_arrays_ext4, axis=0).data"
   ]
  },
  {
   "cell_type": "code",
   "execution_count": 5,
   "metadata": {
    "collapsed": false
   },
   "outputs": [
    {
     "name": "stderr",
     "output_type": "stream",
     "text": [
      "/Users/bourque/anaconda2/envs/astroconda3/lib/python3.5/site-packages/ipykernel/__main__.py:10: RuntimeWarning: divide by zero encountered in true_divide\n",
      "/Users/bourque/anaconda2/envs/astroconda3/lib/python3.5/site-packages/ipykernel/__main__.py:11: RuntimeWarning: divide by zero encountered in true_divide\n"
     ]
    }
   ],
   "source": [
    "# Propoagate uncertainties for ERR arrays\n",
    "weight_image_ext1 = np.zeros((2051, 4096))\n",
    "weight_image_ext4 = np.zeros((2051, 4096))\n",
    "for array in masked_arrays_ext1:\n",
    "    mask = array.mask\n",
    "    weight_image_ext1[np.where(mask == False)] += 1.0\n",
    "for array in masked_arrays_ext4:\n",
    "    mask = array.mask\n",
    "    weight_image_ext4[np.where(mask == False)] += 1.0\n",
    "masked_arrays_ext2_squared = [(item * (1/weight_image_ext1))**2 for item in masked_arrays_ext2]\n",
    "masked_arrays_ext5_squared = [(item * (1/weight_image_ext4))**2 for item in masked_arrays_ext5]\n",
    "comb_ext2 = np.sqrt(np.ma.sum(masked_arrays_ext2_squared, axis=0)).data\n",
    "comb_ext5 = np.sqrt(np.ma.sum(masked_arrays_ext5_squared, axis=0)).data"
   ]
  },
  {
   "cell_type": "code",
   "execution_count": 6,
   "metadata": {
    "collapsed": true
   },
   "outputs": [],
   "source": [
    "# Create empty DQ arrays\n",
    "comb_ext3 = np.zeros((2051, 4096))\n",
    "comb_ext6 = np.zeros((2051, 4096))"
   ]
  },
  {
   "cell_type": "code",
   "execution_count": 7,
   "metadata": {
    "collapsed": false
   },
   "outputs": [],
   "source": [
    "# Build and save the combined file, using the first final for the header\n",
    "hdu0 = fits.PrimaryHDU(header=fits.getheader(test_data[0], 0))\n",
    "hdu1 = fits.ImageHDU(comb_ext1, header=fits.getheader(test_data[0], 0))\n",
    "hdu2 = fits.ImageHDU(comb_ext2, header=fits.getheader(test_data[0], 1))\n",
    "hdu3 = fits.ImageHDU(comb_ext3, header=fits.getheader(test_data[0], 2))\n",
    "hdu4 = fits.ImageHDU(comb_ext4, header=fits.getheader(test_data[0], 3))\n",
    "hdu5 = fits.ImageHDU(comb_ext5, header=fits.getheader(test_data[0], 4))\n",
    "hdu6 = fits.ImageHDU(comb_ext6, header=fits.getheader(test_data[0], 5))\n",
    "hdulist = fits.HDUList([hdu0, hdu1, hdu2, hdu3, hdu4, hdu5, hdu6])\n",
    "hdulist.writeto('test.fits')"
   ]
  },
  {
   "cell_type": "markdown",
   "metadata": {
    "collapsed": true
   },
   "source": [
    "For questions or comments please see [our github page](https://github.com/spacetelescope/stak).  We encourage and appreciate user feedback."
   ]
  }
 ],
 "metadata": {
  "anaconda-cloud": {},
  "kernelspec": {
   "display_name": "Python [conda env:astroconda3]",
   "language": "python",
   "name": "conda-env-astroconda3-py"
  },
  "language_info": {
   "codemirror_mode": {
    "name": "ipython",
    "version": 3
   },
   "file_extension": ".py",
   "mimetype": "text/x-python",
   "name": "python",
   "nbconvert_exporter": "python",
   "pygments_lexer": "ipython3",
   "version": "3.5.2"
  }
 },
 "nbformat": 4,
 "nbformat_minor": 1
}
